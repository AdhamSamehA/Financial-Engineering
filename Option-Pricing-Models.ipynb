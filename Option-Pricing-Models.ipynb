{
 "cells": [
  {
   "cell_type": "markdown",
   "metadata": {},
   "source": [
    "# Option Pricing Models\n",
    "\n",
    "This is an implementation of the 3 main option pricing models used to estimate the theoretical value of an **European** style option."
   ]
  },
  {
   "cell_type": "markdown",
   "metadata": {},
   "source": [
    "## Binomial Option Pricing Model:\n",
    "In here we assume that markets are **perfectly efficient**, which allows the model to price the option at each point in a specified time frame.\n",
    "\n",
    "This pricing model is designed for **European Call Options** so we price the option based on the following:\n",
    "\n",
    "Stock tree can be represented using nodes $(i, j)$ and initial stock price $S0$\n",
    "\n",
    "$$\n",
    "S_{i,j} = S_0 u^j d^{i-j}\n",
    "$$\n",
    "\n",
    "$C_{i,j}$ represents contract price at each node $(i, j)$\n",
    "\n",
    "$C_{N,j}$ represents final payoff function that we can define, where $N$ is the number of time steps\n"
   ]
  },
  {
   "cell_type": "markdown",
   "metadata": {},
   "source": [
    "### Binomial Option Pricing Model Formulas\n",
    "- **Risk-free probability `q`:**\n",
    "  - Formula: $ q = \\frac{e^{r \\Delta t} - d}{u - d} $\n",
    "  - Description: Calculates the risk-neutral probability of the price moving up in the binomial model.\n",
    "\n",
    "- **Discounted payoff:**\n",
    "  - Formula: $ e^{-r \\Delta t} $\n",
    "  - Description: Factor to discount the option payoff back to the present value.\n",
    "\n",
    "- **Asset price at maturity:**\n",
    "  - Formula: $ S_0 \\times d^{(N-i)} \\times u^{i} $ for $ i $ from 0 to N\n",
    "  - Description: Calculates the possible asset prices at maturity using up and down factors over N periods.\n",
    "\n",
    "- **Option value at maturity:**\n",
    "  - Formula: $ \\max(S_T - K, 0) $\n",
    "  - Description: Calculates the payoff of a European call option at maturity, where $ S_T $ is the asset price at maturity.\n"
   ]
  },
  {
   "cell_type": "code",
   "execution_count": 41,
   "metadata": {},
   "outputs": [
    {
     "name": "stdout",
     "output_type": "stream",
     "text": [
      "European Call Option Value: 10.15 AED\n"
     ]
    }
   ],
   "source": [
    "# import dependencies\n",
    "import numpy as np\n",
    "\n",
    "# initial derivative parameters\n",
    "S0 = 100      # initial stock price\n",
    "K = 100       # strike price\n",
    "T = 1         # time to maturity in years\n",
    "r = 0.06      # arbitrary annual risk-free rate\n",
    "N = 3         # number of time steps\n",
    "u = 1.1       # up-factor in binomial models\n",
    "d = 1/u       # down-factor (NOTE: d must be 1/u, otherwise the binomial tree structure will break)\n",
    "\n",
    "def binomial_pricing_model(K,T,S0,r,N,u,d):\n",
    "    #precompute constants\n",
    "    dt = T/N \n",
    "    q = (np.exp(r*dt) - d) / (u-d) # the risk-free probability\n",
    "    disc = np.exp(-r*dt) # the discounted payoff\n",
    "\n",
    "    # initialise asset prices at maturity - Time step N\n",
    "    C = S0 * d ** (np.arange(N,-1,-1)) * u ** (np.arange(0,N+1,1))\n",
    "\n",
    "    # initialise option values at maturity\n",
    "    C = np.maximum( C - K , np.zeros(N+1) )\n",
    "\n",
    "    # step backwards through tree\n",
    "    for i in np.arange(N,0,-1):\n",
    "        C = disc * ( q * C[1:i+1] + (1-q) * C[0:i] ) # C[1:i+1] is the up-vector and C[0:i] is the down-vector\n",
    "\n",
    "    return C[0]\n",
    "\n",
    "val = binomial_pricing_model(K,T,S0,r,N,u,d)\n",
    "print(f\"European Call Option Value: {val:.2f} AED\")"
   ]
  },
  {
   "cell_type": "markdown",
   "metadata": {},
   "source": [
    "## Black-Scholes Model\n",
    "In here we make the following assumptions about the stock price distribution:\n",
    "1. Continuously compounded returns on the stock are normally distributed and independent over time.\n",
    "2. The volatility of continuously compounded returns is known and constant.\n",
    "3. Future dividends are known\n",
    "\n",
    "We also make the following assumption about the economic environment:\n",
    "1. The risk-free rate is known and constant.\n",
    "2. There are no transaction costs or taxes.\n",
    "3. It is possible to short-sell with no cost and to borrow at the risk-free rate.\n",
    "\n",
    "The pricing model is designed to price **European Style Calls/Puts**\n",
    "\n"
   ]
  },
  {
   "cell_type": "markdown",
   "metadata": {},
   "source": [
    "### Black-Scholes Model Formulas\n",
    "- **$ d1 $ and $ d2 $ calculations:**\n",
    "  - Formula: \n",
    "    - $ d1 = \\frac{\\log(S/K) + (r + \\sigma^2/2) \\times T}{\\sigma \\times \\sqrt{T}} $\n",
    "    - $ d2 = d1 - \\sigma \\times \\sqrt{T} $\n",
    "  - Description: These are intermediary steps in calculating the call and put option prices.\n",
    "\n",
    "- **Call option price (`C`):**\n",
    "  - Formula: $ C = S \\times \\Phi(d1) - K \\times e^{-rT} \\times \\Phi(d2) $\n",
    "  - Description: Calculates the price of a European call option using the cumulative distribution function $ \\Phi $ of the standard normal distribution.\n",
    "\n",
    "- **Put option price (`P`):**\n",
    "  - Formula: $ P = K \\times e^{-rT} \\times \\Phi(-d2) - S \\times \\Phi(-d1) $\n",
    "  - Description: Calculates the price of a European put option."
   ]
  },
  {
   "cell_type": "code",
   "execution_count": 42,
   "metadata": {},
   "outputs": [
    {
     "name": "stdout",
     "output_type": "stream",
     "text": [
      "Price of call option: 20.00 AED\n",
      "Price of put option: 39.80 AED\n"
     ]
    }
   ],
   "source": [
    "from scipy.stats import norm\n",
    "\n",
    "# initial derivative parameters\n",
    "r = 0.01 # arbitrary annual risk-free rate\n",
    "S = 20 # underlying stock price\n",
    "K = 40 # strike price\n",
    "T = 0.5 # time to maturity/expiration in years\n",
    "sigma = 30 # measure of volatility\n",
    "\n",
    "def blackScholes(r, S, K, T, sigma, type='c'):\n",
    "    d1 = (np.log(S/K) + (r + sigma**2/2)*T)/(sigma*np.sqrt(T))\n",
    "    d2 = d1 - sigma*np.sqrt(T)\n",
    "    try:\n",
    "        if type == \"c\":\n",
    "            price = S*norm.cdf(d1, 0, 1) - K*np.exp(-r*T)*norm.cdf(d2, 0, 1)\n",
    "        elif type == \"p\":\n",
    "            price = K*np.exp(-r*T)*norm.cdf(-d2, 0, 1) - S*norm.cdf(-d1, 0, 1)\n",
    "        return price\n",
    "    except:\n",
    "        print(\"Please confirm option type, either 'c' for Call or 'p' for Put!\")\n",
    "\n",
    "\n",
    "cVal = blackScholes(r, S, K, T, sigma, type='c')\n",
    "pVal = blackScholes(r, S, K, T, sigma, type='p')\n",
    "\n",
    "print(f\"Price of call option: {cVal:.2f} AED\")\n",
    "print(f\"Price of put option: {pVal:.2f} AED\")\n"
   ]
  },
  {
   "cell_type": "markdown",
   "metadata": {},
   "source": [
    "## Monte-Carlo Simulation based on a Geometric Brownian Motion (GBM) model\n",
    "In here we make the following assumptions:\n",
    "1. Pricing is risk-neutral \n",
    "2. Stock price follows a random walk (meaning that the change in stock price overtime is random and cannot be predicted using past patterns and/or technical analysis)\n",
    "3. Stock price reflects the true, fair value of the stock (meaning that investors cannot buy undervalued assets or sell overvalued assets in the market), also known as the Efficient Market Hypothesis (EMH)\n",
    " "
   ]
  },
  {
   "cell_type": "markdown",
   "metadata": {},
   "source": [
    "### Monte Carlo Simulation Formulas\n",
    "- **Simulation of final stock prices $S_T$:**\n",
    "  - Formula: $ S_T = S_0 \\times e^{(r - \\frac{\\sigma^2}{2})T + \\sigma \\times \\sqrt{T} \\times Z} $\n",
    "  - Description: Simulates the possible future stock price at maturity, where $ Z $ is a standard normal variable.\n",
    "\n",
    "- **Call option payoff:**\n",
    "  - Formula: $ \\max(S_T - K, 0) $\n",
    "  - Description: Represents the payoff of a call option, which is the positive part of the difference between the stock price at maturity and the strike price.\n",
    "\n",
    "- **Discounted expected payoff:**\n",
    "  - Formula: $ e^{-rT} \\times \\frac{1}{M} \\sum \\max(S_T - K, 0) $\n",
    "  - Description: The expected payoff of the option is averaged over many simulated paths and discounted to present value.\n",
    "\n",
    "- **Standard error of estimate:**\n",
    "  - Formula: $ \\sigma/\\sqrt{M} $\n",
    "  - Description: Calculates the standard error of the Monte Carlo estimate to gauge the accuracy of the simulation.\n"
   ]
  },
  {
   "cell_type": "code",
   "execution_count": 43,
   "metadata": {},
   "outputs": [
    {
     "name": "stdout",
     "output_type": "stream",
     "text": [
      "Call value is 5.11 AED with standard error +/- 0.18\n"
     ]
    }
   ],
   "source": [
    "# import dependencies\n",
    "import numpy as np\n",
    "\n",
    "# initial derivative parameters\n",
    "S = 101.15          #stock price\n",
    "K = 98.01           #strike price\n",
    "vol = 0.0991        #arbitrary implied volatility (%) \n",
    "r = 0.01            #arbitrary risk-free rate (%)\n",
    "N = 10              #number of time steps\n",
    "M = 1000            #number of simulations\n",
    "market_value = 3.86 #market price of option\n",
    "\n",
    "T = 0.5    #time to maturity/expiration in years\n",
    "\n",
    "#precompute constants\n",
    "dt = T/N\n",
    "nudt = (r - 0.5*vol**2)*dt\n",
    "volsdt = vol*np.sqrt(dt)\n",
    "lnS = np.log(S)\n",
    "\n",
    "# Monte Carlo Method\n",
    "Z = np.random.normal(size=(N, M))\n",
    "delta_lnSt = nudt + volsdt*Z\n",
    "lnSt = lnS + np.cumsum(delta_lnSt, axis=0)\n",
    "lnSt = np.concatenate( (np.full(shape=(1, M), fill_value=lnS), lnSt ) )\n",
    "\n",
    "# Compute Expectation and SE\n",
    "ST = np.exp(lnSt) # the simulated stock prices at each time step\n",
    "CT = np.maximum(0, ST - K) # the payoff of the call option at maturity (max(ST - K, 0))\n",
    "C0 = np.exp(-r*T)*np.sum(CT[-1])/M  # the present value of the expected payoff of the call option\n",
    "\n",
    "sigma = np.sqrt( np.sum( (CT[-1] - C0)**2) / (M-1) ) #standard deviation of the simulated payoffs\n",
    "SE = sigma/np.sqrt(M) #standard error of the estimated option price\n",
    "\n",
    "print(\"Call value is {0} AED with standard error +/- {1}\".format(np.round(C0,2),np.round(SE,2)))"
   ]
  },
  {
   "cell_type": "markdown",
   "metadata": {},
   "source": [
    "## Using Antithetic Variates\n",
    "Although the above implementation is a great method for approximating option values with complex payoffs or high dimensionality, in order to get an acceptably accurate estimate we must perform a large number of simulations. Instead we can lean on **variance reduction methods** which help make Monte Carlo models more efficient, by improving the precision of the model without increasing the computation cost.\n",
    "\n",
    "One commonly used variance reduction method is the use of antithetic variates. To implement an antithetic variate we create a hypothetical asset which is perfectly negatively correlated with the original asset."
   ]
  },
  {
   "cell_type": "code",
   "execution_count": 44,
   "metadata": {},
   "outputs": [
    {
     "name": "stdout",
     "output_type": "stream",
     "text": [
      "Call value is 4.94 AED with Standard Error +/- 0.06\n"
     ]
    }
   ],
   "source": [
    "# import dependencies\n",
    "import numpy as np\n",
    "\n",
    "# initial derivative parameters\n",
    "S = 101.15          #stock price\n",
    "K = 98.01           #strike price\n",
    "vol = 0.0991        #arbitrary implied volatility (%) \n",
    "r = 0.01            #arbitrary risk-free rate (%)\n",
    "N = 10              #number of time steps\n",
    "M = 1000            #number of simulations\n",
    "market_value = 3.86 #market price of option\n",
    "\n",
    "T = 0.5 # time to maturity/expiration in years\n",
    "\n",
    "# precompute constants\n",
    "dt = T/N\n",
    "nudt = (r - 0.5*vol**2)*dt\n",
    "volsdt = vol*np.sqrt(dt)\n",
    "lnS = np.log(S)\n",
    "\n",
    "# Monte Carlo Method\n",
    "Z = np.random.normal(size=(N, M))\n",
    "delta_lnSt1 = nudt + volsdt*Z # calculate the change in the logarithm of the stock price using the random variables.\n",
    "delta_lnSt2 = nudt - volsdt*Z # calculate the change in the logarithm of the stock price using the negative of the random variables (antithetic variates)\n",
    "lnSt1 = lnS + np.cumsum(delta_lnSt1, axis=0) # compute the cumulative sum of delta_lnSt1 to get the simulated logarithmic stock prices\n",
    "lnSt2 = lnS + np.cumsum(delta_lnSt2, axis=0) # compute the cumulative sum of delta_lnSt2 to get the antithetic simulated logarithmic stock prices\n",
    "\n",
    "# Compute Expectation and SE\n",
    "ST1 = np.exp(lnSt1) # convert the logarithmic stock prices lnSt1 back to actual stock prices\n",
    "ST2 = np.exp(lnSt2) # convert the antithetic logarithmic stock prices lnSt2 back to actual stock prices\n",
    "CT = 0.5 * ( np.maximum(0, ST1[-1] - K) + np.maximum(0, ST2[-1] - K) ) # calculate the average payoff of the call option at maturity for both the original and antithetic paths\n",
    "C0 = np.exp(-r*T)*np.sum(CT)/M # compute the present value of the average payoff by discounting it back to the present using the risk-free rate and averaging over all simulations\n",
    "\n",
    "sigma = np.sqrt( np.sum( (CT - C0)**2) / (M-1) )\n",
    "SE = sigma/np.sqrt(M) # compute the standard error of the estimate\n",
    "\n",
    "print(\"Call value is {0} AED with Standard Error +/- {1}\".format(np.round(C0,2),np.round(SE,2)))"
   ]
  },
  {
   "cell_type": "markdown",
   "metadata": {},
   "source": [
    "# Visualise The Results"
   ]
  },
  {
   "cell_type": "code",
   "execution_count": 45,
   "metadata": {},
   "outputs": [
    {
     "data": {
      "image/png": "[encoded data removed]",
      "text/plain": [
       "<Figure size 640x480 with 1 Axes>"
      ]
     },
     "metadata": {},
     "output_type": "display_data"
    }
   ],
   "source": [
    "import scipy.stats as stats\n",
    "import matplotlib.pyplot as plt\n",
    "\n",
    "\n",
    "x1 = np.linspace(C0-3*SE, C0-1*SE, 100)\n",
    "x2 = np.linspace(C0-1*SE, C0+1*SE, 100)\n",
    "x3 = np.linspace(C0+1*SE, C0+3*SE, 100)\n",
    "\n",
    "s1 = stats.norm.pdf(x1, C0, SE)\n",
    "s2 = stats.norm.pdf(x2, C0, SE)\n",
    "s3 = stats.norm.pdf(x3, C0, SE)\n",
    "\n",
    "plt.fill_between(x1, s1, color='tab:blue',label='> 1 std')\n",
    "plt.fill_between(x2, s2, color='cornflowerblue',label='1 std')\n",
    "plt.fill_between(x3, s3, color='tab:blue')\n",
    "\n",
    "plt.plot([C0,C0],[0, max(s2)*1.1], 'k',\n",
    "        label='Theoretical Value')\n",
    "#plt.plot([market_value,market_value],[0, max(s2)*1.1], 'r', label='Market Value')\n",
    "\n",
    "plt.ylabel(\"Probability\")\n",
    "plt.xlabel(\"Option Price\")\n",
    "plt.legend()\n",
    "plt.show()"
   ]
  },
  {
   "cell_type": "code",
   "execution_count": null,
   "metadata": {},
   "outputs": [],
   "source": []
  },
  {
   "cell_type": "code",
   "execution_count": null,
   "metadata": {},
   "outputs": [],
   "source": []
  },
  {
   "cell_type": "code",
   "execution_count": null,
   "metadata": {},
   "outputs": [],
   "source": []
  }
 ],
 "metadata": {
  "kernelspec": {
   "display_name": "myenv",
   "language": "python",
   "name": "python3"
  },
  "language_info": {
   "codemirror_mode": {
    "name": "ipython",
    "version": 3
   },
   "file_extension": ".py",
   "mimetype": "text/x-python",
   "name": "python",
   "nbconvert_exporter": "python",
   "pygments_lexer": "ipython3",
   "version": "3.11.5"
  }
 },
 "nbformat": 4,
 "nbformat_minor": 2
}
